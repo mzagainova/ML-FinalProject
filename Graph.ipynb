{
 "cells": [
  {
   "cell_type": "code",
   "execution_count": 2,
   "metadata": {},
   "outputs": [
    {
     "name": "stdout",
     "output_type": "stream",
     "text": [
      "Or nodes: \n",
      "[5 6]\n",
      "Ex before or replacement: \n",
      "[4 3 2 1 6]\n",
      "Ex after or replacement: \n",
      "[4 3 2 1 5]\n"
     ]
    }
   ],
   "source": [
    "import numpy as np\n",
    "\n",
    "# case 1\n",
    "# ex1 = np.array([1,2,3])\n",
    "# ex2 = np.array([2,1,4])\n",
    "\n",
    "# case 2\n",
    "# ex1 = np.array([1,2,3,4])\n",
    "# ex2 = np.array([3,2,1,5])\n",
    "\n",
    "# case 3\n",
    "ex1 = np.array([1,2,3,4,5])\n",
    "ex2 = np.array([4,3,2,1,6])\n",
    "\n",
    "# keep track of all OR nodes\n",
    "orNodes = np.empty((0,3), int)\n",
    "\n",
    "# find all OR nodes (aka any node in ex1 that is not in ex2 and visa versa)\n",
    "def findOrNodes(ex1, ex2, orNodes):\n",
    "    for i in ex1:\n",
    "        if not np.isin(i, ex2):\n",
    "            orNodes = np.append(orNodes,i)\n",
    "    for i in ex2:\n",
    "        if not np.isin(i, ex1):\n",
    "            orNodes = np.append(orNodes,i)\n",
    "    orNodes.sort()\n",
    "    return orNodes\n",
    "\n",
    "orNodes = findOrNodes(ex1,ex2, orNodes)\n",
    "print(\"Or nodes: \")\n",
    "print(orNodes)\n",
    "print(\"Ex before or replacement: \")\n",
    "print(ex2)\n",
    "\n",
    "# replace OR nodes\n",
    "def replaceOrNodes(ex, orNodes):\n",
    "    for i in range(0,orNodes.size-1):\n",
    "        ex = np.where(ex==orNodes[i+1], int(orNodes[i]), ex)\n",
    "    return ex\n",
    "\n",
    "ex2 = replaceOrNodes(ex2, orNodes)\n",
    "print(\"Ex after or replacement: \")\n",
    "print(ex2)"
   ]
  },
  {
   "cell_type": "code",
   "execution_count": 3,
   "metadata": {},
   "outputs": [],
   "source": [
    "# initialize graph with first elements coming from 0 start node\n",
    "graph = dict()\n",
    "graph[0] = np.array([ex1[0],ex2[0]])"
   ]
  },
  {
   "cell_type": "code",
   "execution_count": 4,
   "metadata": {},
   "outputs": [
    {
     "name": "stdout",
     "output_type": "stream",
     "text": [
      "Initial graph: \n",
      "{0: array([1, 4])}\n"
     ]
    }
   ],
   "source": [
    "print(\"Initial graph: \")\n",
    "print(graph)"
   ]
  },
  {
   "cell_type": "code",
   "execution_count": 5,
   "metadata": {},
   "outputs": [],
   "source": [
    "# add each outgoing node from its previous root node\n",
    "for i in range(0,ex1.size-1):\n",
    "    if ex1[i] in graph:\n",
    "        print(ex1[i])\n",
    "        graph[ex1[i]] = np.append(graph[ex1[i]], ex1[i+1])\n",
    "    else:\n",
    "        graph[ex1[i]] = np.array(ex1[i+1])"
   ]
  },
  {
   "cell_type": "code",
   "execution_count": 6,
   "metadata": {},
   "outputs": [
    {
     "name": "stdout",
     "output_type": "stream",
     "text": [
      "{0: array([1, 4]), 1: array(2), 2: array(3), 3: array(4), 4: array(5)}\n"
     ]
    }
   ],
   "source": [
    "print(graph)"
   ]
  },
  {
   "cell_type": "code",
   "execution_count": 7,
   "metadata": {},
   "outputs": [
    {
     "name": "stdout",
     "output_type": "stream",
     "text": [
      "4\n",
      "3\n",
      "2\n",
      "1\n"
     ]
    }
   ],
   "source": [
    "for i in range(0,ex2.size-1):\n",
    "    if ex2[i] in graph:\n",
    "        print(ex2[i])\n",
    "        graph[ex2[i]] = np.append(graph[ex2[i]], ex2[i+1])\n",
    "    else:\n",
    "        graph[ex2[i]] = np.array(ex2[i+1])"
   ]
  },
  {
   "cell_type": "code",
   "execution_count": 8,
   "metadata": {},
   "outputs": [
    {
     "name": "stdout",
     "output_type": "stream",
     "text": [
      "{0: array([1, 4]), 1: array([2, 5]), 2: array([3, 1]), 3: array([4, 2]), 4: array([5, 3])}\n"
     ]
    }
   ],
   "source": [
    "print(graph)"
   ]
  },
  {
   "cell_type": "code",
   "execution_count": 9,
   "metadata": {},
   "outputs": [],
   "source": [
    "andNodes = np.empty((0,2), int)\n",
    "\n",
    "for key in graph:\n",
    "    for i in graph[key]:\n",
    "        if int(i) in graph:\n",
    "            if key in graph[int(i)]:\n",
    "                if key not in andNodes:\n",
    "                    andNodes = np.concatenate((andNodes, [[i, key]]), axis=0)  "
   ]
  },
  {
   "cell_type": "code",
   "execution_count": 10,
   "metadata": {},
   "outputs": [
    {
     "name": "stdout",
     "output_type": "stream",
     "text": [
      "[[2 1]\n",
      " [4 3]]\n"
     ]
    }
   ],
   "source": [
    "print(andNodes)"
   ]
  },
  {
   "cell_type": "code",
   "execution_count": 11,
   "metadata": {},
   "outputs": [],
   "source": [
    "from anytree import Node, RenderTree"
   ]
  },
  {
   "cell_type": "code",
   "execution_count": 12,
   "metadata": {},
   "outputs": [
    {
     "name": "stdout",
     "output_type": "stream",
     "text": [
      "[5 6]\n"
     ]
    }
   ],
   "source": [
    "print(orNodes)\n",
    "orNodesList = list()\n",
    "for i in range(0, orNodes.size-1,2):\n",
    "    node = Node(\"OR\")\n",
    "    left = Node(orNodes[i], parent=node)\n",
    "    right = Node(orNodes[i+1], parent=node)\n",
    "    orNodesList.append(node)"
   ]
  },
  {
   "cell_type": "code",
   "execution_count": 13,
   "metadata": {},
   "outputs": [
    {
     "name": "stdout",
     "output_type": "stream",
     "text": [
      "(Node('/OR/5'), Node('/OR/6'))\n",
      "[Node('/OR')]\n"
     ]
    }
   ],
   "source": [
    "for i in orNodesList:\n",
    "    print(i.children)\n",
    "\n",
    "print(orNodesList)"
   ]
  },
  {
   "cell_type": "code",
   "execution_count": 14,
   "metadata": {},
   "outputs": [],
   "source": [
    "for i in orNodes:\n",
    "    if i in andNodes:\n",
    "        andNodes = andNodes[np.all(andNodes != i, axis=1)]"
   ]
  },
  {
   "cell_type": "code",
   "execution_count": 15,
   "metadata": {},
   "outputs": [
    {
     "name": "stdout",
     "output_type": "stream",
     "text": [
      "[[2 1]\n",
      " [4 3]]\n"
     ]
    }
   ],
   "source": [
    "print(andNodes)"
   ]
  },
  {
   "cell_type": "code",
   "execution_count": 16,
   "metadata": {},
   "outputs": [
    {
     "name": "stdout",
     "output_type": "stream",
     "text": [
      "Examples before merge:\n",
      "[1 2 3 4 5]\n",
      "[4 3 2 1 5]\n",
      "Examples after merge:\n",
      "[1 3 5]\n",
      "[3 1 5]\n"
     ]
    }
   ],
   "source": [
    "print(\"Examples before merge:\")\n",
    "print(ex1)\n",
    "print(ex2)\n",
    "\n",
    "def mergeAnds(ex, andNodes):\n",
    "    for i in andNodes:\n",
    "        index = np.argwhere(ex==i[0])\n",
    "        ex = np.delete(ex, index)\n",
    "        index = np.argwhere(ex==i[0])\n",
    "        ex = np.delete(ex, index)\n",
    "    return ex\n",
    "\n",
    "ex1 = mergeAnds(ex1, andNodes)\n",
    "ex2 = mergeAnds(ex2, andNodes)\n",
    "\n",
    "print(\"Examples after merge:\")\n",
    "print(ex1)\n",
    "print(ex2)"
   ]
  },
  {
   "cell_type": "code",
   "execution_count": 17,
   "metadata": {},
   "outputs": [],
   "source": [
    "andNodesList = list()\n",
    "for j in andNodes:\n",
    "    for i in range(0, j.size-1,2):\n",
    "        node = Node(\"AND\")\n",
    "        left = Node(j[i], parent=node)\n",
    "        right = Node(j[i+1], parent=node)\n",
    "        andNodesList.append(node)"
   ]
  },
  {
   "cell_type": "code",
   "execution_count": 18,
   "metadata": {},
   "outputs": [
    {
     "name": "stdout",
     "output_type": "stream",
     "text": [
      "(Node('/AND/2'), Node('/AND/1'))\n",
      "(Node('/AND/4'), Node('/AND/3'))\n"
     ]
    }
   ],
   "source": [
    "for i in andNodesList:\n",
    "    print(i.children)"
   ]
  },
  {
   "cell_type": "code",
   "execution_count": 19,
   "metadata": {},
   "outputs": [],
   "source": [
    "# ex1 = np.array([1,2,3,4,5])\n",
    "# print(ex1)\n",
    "# print(ex2)\n",
    "\n",
    "# index = np.argwhere(ex1==andNodes[0][0])\n",
    "# ex1 = np.delete(ex1, index)\n",
    "# index = np.argwhere(ex1==andNodes[1][0])\n",
    "# ex1 = np.delete(ex1, index)\n",
    "\n",
    "# index = np.argwhere(ex2==andNodes[0][0])\n",
    "# ex2 = np.delete(ex2, index)\n",
    "# index = np.argwhere(ex2==andNodes[1][0])\n",
    "# ex2 = np.delete(ex2, index)"
   ]
  },
  {
   "cell_type": "code",
   "execution_count": 20,
   "metadata": {},
   "outputs": [
    {
     "name": "stdout",
     "output_type": "stream",
     "text": [
      "2\n",
      "1\n",
      "4\n",
      "3\n"
     ]
    }
   ],
   "source": [
    "for row in andNodes:\n",
    "    for c in row:\n",
    "        print(c)"
   ]
  },
  {
   "cell_type": "code",
   "execution_count": null,
   "metadata": {},
   "outputs": [],
   "source": []
  },
  {
   "cell_type": "code",
   "execution_count": null,
   "metadata": {},
   "outputs": [],
   "source": []
  },
  {
   "cell_type": "code",
   "execution_count": null,
   "metadata": {},
   "outputs": [],
   "source": []
  },
  {
   "cell_type": "code",
   "execution_count": null,
   "metadata": {},
   "outputs": [],
   "source": []
  },
  {
   "cell_type": "code",
   "execution_count": null,
   "metadata": {},
   "outputs": [],
   "source": []
  },
  {
   "cell_type": "code",
   "execution_count": null,
   "metadata": {},
   "outputs": [],
   "source": []
  }
 ],
 "metadata": {
  "kernelspec": {
   "display_name": "Python 3",
   "language": "python",
   "name": "python3"
  },
  "language_info": {
   "codemirror_mode": {
    "name": "ipython",
    "version": 3
   },
   "file_extension": ".py",
   "mimetype": "text/x-python",
   "name": "python",
   "nbconvert_exporter": "python",
   "pygments_lexer": "ipython3",
   "version": "3.5.2"
  }
 },
 "nbformat": 4,
 "nbformat_minor": 2
}
